{
 "cells": [
  {
   "cell_type": "code",
   "execution_count": 1,
   "metadata": {},
   "outputs": [
    {
     "name": "stdout",
     "output_type": "stream",
     "text": [
      "Enter Number(ON: 1, OFF: 2): 1\n",
      "4 ON\n",
      "Enter Number(ON: 1, OFF: 2): 2\n",
      "4 OFF\n",
      "Enter Number(ON: 1, OFF: 2): 1\n",
      "4 ON\n",
      "Enter Number(ON: 1, OFF: 2): 2\n",
      "4 OFF\n",
      "Enter Number(ON: 1, OFF: 2): q\n",
      "Invalid Input\n"
     ]
    }
   ],
   "source": [
    "# -*- coding: utf-8 -*-\n",
    "# Author: Kyle Song\n",
    "# Email: fkilla8210@naver.com\n",
    "#\n",
    "# Python Package Install: pip3 install pyfirmata2\n",
    "#\n",
    "\n",
    "from pyfirmata2 import Arduino\n",
    "import time\n",
    "\n",
    "COMPORT = Arduino.AUTODETECT\n",
    "PIN_NUM = 4\n",
    "\n",
    "board = Arduino(COMPORT)\n",
    "#board = Arduino(\"COM16\")\n",
    "\n",
    "# Another way of control pin\n",
    "#pin3 = board.get_pin('d:4:p')\n",
    "#pin4 = board.get_pin('d:4:o')\n",
    "\n",
    "while True:\n",
    "    try:\n",
    "        num = int(input(\"Enter Number(ON: 1, OFF: 2): \"))\n",
    "\n",
    "        if num == 1:\n",
    "            #pin4.write(1)\n",
    "            board.digital[PIN_NUM].write(1)\n",
    "            print(PIN_NUM, \"ON\")\n",
    "\n",
    "        elif num == 2:\n",
    "            #pin4.write(0)\n",
    "            board.digital[PIN_NUM].write(0)\n",
    "            print(PIN_NUM, \"OFF\")\n",
    "\n",
    "    except ValueError:\n",
    "        print(\"Invalid Input\")\n",
    "        break"
   ]
  }
 ],
 "metadata": {
  "kernelspec": {
   "display_name": "Python 3",
   "language": "python",
   "name": "python3"
  },
  "language_info": {
   "codemirror_mode": {
    "name": "ipython",
    "version": 3
   },
   "file_extension": ".py",
   "mimetype": "text/x-python",
   "name": "python",
   "nbconvert_exporter": "python",
   "pygments_lexer": "ipython3",
   "version": "3.6.8"
  }
 },
 "nbformat": 4,
 "nbformat_minor": 2
}
