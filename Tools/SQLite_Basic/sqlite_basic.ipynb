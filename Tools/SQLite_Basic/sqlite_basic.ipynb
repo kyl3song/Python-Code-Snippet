{
 "cells": [
  {
   "cell_type": "markdown",
   "metadata": {},
   "source": [
    "# 1. Make SQlite Connection & Insert data into dfir table"
   ]
  },
  {
   "cell_type": "code",
   "execution_count": 1,
   "metadata": {},
   "outputs": [],
   "source": [
    "import sqlite3\n",
    "\n",
    "# Make connection to SQLite database and get ready to use cursor to Query\n",
    "db_file = 'sqlite.db'\n",
    "conn = sqlite3.connect(db_file)\n",
    "cur = conn.cursor()\n",
    "\n",
    "# If table already exists, \"table [table_name] already exists\" error occurs\n",
    "cur.execute(\"DROP TABLE IF EXISTS dfir\")\n",
    "\n",
    "cur.execute(\"CREATE TABLE dfir(filename text, type text, size int, username char(20))\")\n",
    "\n",
    "cur.execute(\"INSERT INTO dfir values('a.exe', 'exe', 14579664, 'admin')\")\n",
    "cur.execute(\"INSERT INTO dfir values('b.png', 'png', 2200, 'admin')\")\n",
    "cur.execute(\"INSERT INTO dfir values('c.mov', 'mov', 154700, 'kyle')\")\n",
    "\n",
    "# Another way of SQL insert\n",
    "sql_insert = \"INSERT INTO dfir(filename, type, size, username) values (?, ?, ?, ?)\"\n",
    "data = [\"forensics.txt\", \"txt\", 500, \"kyle\"]\n",
    "cur.execute(sql_insert, data)\n",
    "\n",
    "conn.commit()"
   ]
  },
  {
   "cell_type": "markdown",
   "metadata": {},
   "source": [
    "# 2. Fetchmany(number of rows) Result"
   ]
  },
  {
   "cell_type": "code",
   "execution_count": 2,
   "metadata": {},
   "outputs": [
    {
     "name": "stdout",
     "output_type": "stream",
     "text": [
      "[('a.exe', 'exe', 14579664, 'admin'), ('b.png', 'png', 2200, 'admin')]\n"
     ]
    }
   ],
   "source": [
    "# Returns output with list of tuples (fetchmany(n) / fetchone() / fetchall())\n",
    "# fetchmany(n)\n",
    "db_select = cur.execute(\"SELECT * FROM dfir\")\n",
    "db_select = cur.fetchmany(2)\n",
    "print(db_select)"
   ]
  },
  {
   "cell_type": "markdown",
   "metadata": {},
   "source": [
    "# 3. Fetchall Result"
   ]
  },
  {
   "cell_type": "code",
   "execution_count": 3,
   "metadata": {},
   "outputs": [
    {
     "name": "stdout",
     "output_type": "stream",
     "text": [
      "[('a.exe', 'exe', 14579664, 'admin'), ('b.png', 'png', 2200, 'admin'), ('c.mov', 'mov', 154700, 'kyle'), ('forensics.txt', 'txt', 500, 'kyle')]\n"
     ]
    }
   ],
   "source": [
    "# fetchall()\n",
    "db_select = cur.execute(\"SELECT * FROM dfir\")\n",
    "db_select = cur.fetchall()\n",
    "print(db_select)"
   ]
  },
  {
   "cell_type": "markdown",
   "metadata": {},
   "source": [
    "# 4. Fetchone Result"
   ]
  },
  {
   "cell_type": "code",
   "execution_count": 4,
   "metadata": {},
   "outputs": [
    {
     "name": "stdout",
     "output_type": "stream",
     "text": [
      "('a.exe', 'exe', 14579664, 'admin')\n"
     ]
    }
   ],
   "source": [
    "# fetchone()\n",
    "db_select = cur.execute(\"SELECT * FROM dfir\")\n",
    "db_select = cur.fetchone()\n",
    "print(db_select)"
   ]
  },
  {
   "cell_type": "code",
   "execution_count": 5,
   "metadata": {},
   "outputs": [
    {
     "name": "stdout",
     "output_type": "stream",
     "text": [
      "[(4,)]\n"
     ]
    }
   ],
   "source": [
    "# Column Count\n",
    "db_count = cur.execute(\"SELECT COUNT(*) FROM dfir\")\n",
    "db_count = cur.fetchall()\n",
    "print(db_count)"
   ]
  },
  {
   "cell_type": "markdown",
   "metadata": {},
   "source": [
    "# 5. Close Connection & Cursor"
   ]
  },
  {
   "cell_type": "code",
   "execution_count": 6,
   "metadata": {},
   "outputs": [],
   "source": [
    "cur.close()\n",
    "conn.close()"
   ]
  }
 ],
 "metadata": {
  "kernelspec": {
   "display_name": "Python 3",
   "language": "python",
   "name": "python3"
  },
  "language_info": {
   "codemirror_mode": {
    "name": "ipython",
    "version": 3
   },
   "file_extension": ".py",
   "mimetype": "text/x-python",
   "name": "python",
   "nbconvert_exporter": "python",
   "pygments_lexer": "ipython3",
   "version": "3.6.8"
  }
 },
 "nbformat": 4,
 "nbformat_minor": 2
}
