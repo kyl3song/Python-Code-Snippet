{
 "cells": [
  {
   "cell_type": "markdown",
   "metadata": {},
   "source": [
    "# 1. Converting, Base64 ENC/DEC Functions"
   ]
  },
  {
   "cell_type": "code",
   "execution_count": 1,
   "metadata": {},
   "outputs": [],
   "source": [
    "# -*- coding: utf-8 -*-\n",
    "# @Author: Kyle Song (fkilla8210@gmail.com)\n",
    "# @Date:   2020-03-04 22:29:47\n",
    "# @Last Modified by:   KyleSong\n",
    "\n",
    "import base64\n",
    "\n",
    "\n",
    "def convert_string_to_byte(string_data):\n",
    "    \"\"\" Encodes string into bytes as \"base64.b64encode()\" only takes byte-type data \"\"\"\n",
    "    return string_data.encode()\n",
    "\n",
    "def convert_byte_to_string(byte_data):\n",
    "    \"\"\" Decodes string to bytes \"\"\"\n",
    "    return byte_data.decode()\n",
    "\n",
    "def base64_encode(byte_data):\n",
    "    \"\"\" Encodes byte data to base64 \"\"\"\n",
    "    return base64.b64encode(byte_data)\n",
    "\n",
    "def base64_decode(byte_data):\n",
    "    \"\"\" Decodes byte data to base64 \"\"\"\n",
    "    return base64.b64decode(byte_data)"
   ]
  },
  {
   "cell_type": "markdown",
   "metadata": {},
   "source": [
    "# 2. Encoding Plaintext String to Base64"
   ]
  },
  {
   "cell_type": "code",
   "execution_count": 2,
   "metadata": {},
   "outputs": [
    {
     "name": "stdout",
     "output_type": "stream",
     "text": [
      "b'SGVsbG8gUHl0aG9u'\n",
      "SGVsbG8gUHl0aG9u\n"
     ]
    }
   ],
   "source": [
    "string_data = \"Hello Python\"\n",
    "\n",
    "byte_data = convert_string_to_byte(string_data)\n",
    "b64_encoded = base64_encode(byte_data)\n",
    "print(b64_encoded)\n",
    "print(b64_encoded.decode())"
   ]
  },
  {
   "cell_type": "markdown",
   "metadata": {},
   "source": [
    "# 3. Decoding Base64 to Plaintext String"
   ]
  },
  {
   "cell_type": "code",
   "execution_count": 3,
   "metadata": {},
   "outputs": [
    {
     "name": "stdout",
     "output_type": "stream",
     "text": [
      "b'Hello Python'\n",
      "Hello Python\n"
     ]
    }
   ],
   "source": [
    "base64_data = \"SGVsbG8gUHl0aG9u\"\n",
    "\n",
    "byte_data = convert_string_to_byte(base64_data)\n",
    "b64_decoded = base64_decode(byte_data)\n",
    "print(b64_decoded)\n",
    "print(b64_decoded.decode())"
   ]
  },
  {
   "cell_type": "code",
   "execution_count": null,
   "metadata": {},
   "outputs": [],
   "source": []
  }
 ],
 "metadata": {
  "kernelspec": {
   "display_name": "Python 3",
   "language": "python",
   "name": "python3"
  },
  "language_info": {
   "codemirror_mode": {
    "name": "ipython",
    "version": 3
   },
   "file_extension": ".py",
   "mimetype": "text/x-python",
   "name": "python",
   "nbconvert_exporter": "python",
   "pygments_lexer": "ipython3",
   "version": "3.6.8"
  }
 },
 "nbformat": 4,
 "nbformat_minor": 2
}
