{
 "cells": [
  {
   "cell_type": "markdown",
   "metadata": {},
   "source": [
    "# Netstat Data Sample"
   ]
  },
  {
   "cell_type": "code",
   "execution_count": 5,
   "metadata": {},
   "outputs": [
    {
     "name": "stdout",
     "output_type": "stream",
     "text": [
      "Active Internet connections (servers and established)\n",
      "Proto Recv-Q Send-Q Local Address           Foreign Address         State\n",
      "tcp        0      0 0.0.0.0:2666            0.0.0.0:*               LISTEN      \n",
      "tcp        0      0 0.0.0.0:80              0.0.0.0:*               LISTEN      \n",
      "tcp        0      0 0.0.0.0:6000            0.0.0.0:*               LISTEN      \n",
      "tcp        0      0 0.0.0.0:443             0.0.0.0:*               LISTEN      \n",
      "tcp        0      0 123.108.163.56:50596    101.201.151.78:50000    ESTABLISHED \n",
      "tcp        0      0 127.0.0.1:41282         127.0.0.1:40920         ESTABLISHED \n",
      "tcp        0      0 127.0.0.1:53375         127.0.0.1:37474         ESTABLISHED \n",
      "tcp        0      0 127.0.0.1:37188         127.0.0.1:47231         ESTABLISHED \n",
      "tcp        0      0 127.0.0.1:40920         127.0.0.1:41282         ESTABLISHED \n",
      "tcp        0      0 127.0.0.1:49774         127.0.0.1:37635         ESTABLISHED \n",
      "tcp       24      0 123.108.163.56:39571    47.105.57.238:20080     ESTABLISHED \n",
      "tcp        0      0 127.0.0.1:47231         127.0.0.1:37188         ESTABLISHED \n",
      "tcp        0      0 123.108.163.56:443      212.83.171.224:53777    ESTABLISHED \n",
      "tcp        0      0 127.0.0.1:48537         127.0.0.1:38860         ESTABLISHED \n",
      "tcp        0      0 127.0.0.1:47375         127.0.0.1:37756         ESTABLISHED \n",
      "tcp        0      0 127.0.0.1:36489         127.0.0.1:10501         ESTABLISHED \n",
      "tcp        0      0 127.0.0.1:51225         127.0.0.1:42329         ESTABLISHED \n",
      "tcp        0      0 127.0.0.1:46685         127.0.0.1:48252         ESTABLISHED \n",
      "tcp        0      0 127.0.0.1:35163         127.0.0.1:57011         ESTABLISHED \n",
      "tcp        0      0 127.0.0.1:48252         127.0.0.1:46685         ESTABLISHED \n",
      "tcp        0      0 127.0.0.1:46966         127.0.0.1:50081         ESTABLISHED \n",
      "tcp        0      0 123.108.163.56:38725    101.201.151.78:50000    ESTABLISHED \n",
      "tcp        0      0 127.0.0.1:48337         127.0.0.1:55927         ESTABLISHED \n",
      "tcp        0      0 127.0.0.1:42329         127.0.0.1:51225         ESTABLISHED \n",
      "tcp        0      0 127.0.0.1:42197         127.0.0.1:38943         ESTABLISHED \n",
      "tcp        0      0 127.0.0.1:33948         127.0.0.1:35030         ESTABLISHED \n",
      "tcp        0      0 127.0.0.1:50081         127.0.0.1:46966         ESTABLISHED \n",
      "tcp        0      0 127.0.0.1:37474         127.0.0.1:53375         ESTABLISHED \n",
      "tcp        0      0 127.0.0.1:10501         127.0.0.1:36489         ESTABLISHED \n",
      "tcp        0      0 127.0.0.1:47732         127.0.0.1:42286         ESTABLISHED \n",
      "tcp        0      0 127.0.0.1:57011         127.0.0.1:35163         ESTABLISHED \n",
      "tcp        0      0 127.0.0.1:38860         127.0.0.1:48537         ESTABLISHED \n",
      "tcp        0      0 127.0.0.1:55927         127.0.0.1:48337         ESTABLISHED \n",
      "tcp        0      0 127.0.0.1:37756         127.0.0.1:47375         ESTABLISHED \n",
      "tcp        0      0 123.108.163.56:39569    47.105.57.238:20080     ESTABLISHED \n",
      "tcp        0      0 127.0.0.1:38943         127.0.0.1:42197         ESTABLISHED \n",
      "tcp        0      0 127.0.0.1:37635         127.0.0.1:49774         ESTABLISHED \n",
      "tcp        0      0 127.0.0.1:42286         127.0.0.1:47732         ESTABLISHED \n",
      "tcp        0      0 127.0.0.1:35030         127.0.0.1:33948         ESTABLISHED \n",
      "udp        0      0 10.2.2.1:514            0.0.0.0:*                           \n",
      "udp        0      0 0.0.0.0:6030            0.0.0.0:*                           \n",
      "udp        0      0 0.0.0.0:6031            0.0.0.0:*                           \n",
      "udp        0      0 0.0.0.0:41745           0.0.0.0:*                           \n",
      "udp        0      0 0.0.0.0:39578           0.0.0.0:*                           \n",
      "udp        0      0 127.0.0.1:43292         127.0.0.1:56543         ESTABLISHED \n",
      "udp        0      0 0.0.0.0:4000            0.0.0.0:*                           \n",
      "udp        0      0 0.0.0.0:20002           0.0.0.0:*                           \n",
      "udp        0      0 127.0.0.1:6050          0.0.0.0:*                           \n",
      "udp        0      0 0.0.0.0:10031           0.0.0.0:*                           \n",
      "udp        0      0 0.0.0.0:33600           0.0.0.0:*                           \n",
      "udp        0      0 0.0.0.0:5060            0.0.0.0:*                           \n",
      "udp        0      0 0.0.0.0:3666            0.0.0.0:*                           \n",
      "udp        0      0 127.0.0.1:56543         0.0.0.0:*                           \n",
      "udp        0      0 0.0.0.0:6002            0.0.0.0:*                           \n",
      "udp        0    272 0.0.0.0:6003            0.0.0.0:*                           \n",
      "Active UNIX domain sockets (servers and established)\n",
      "Proto RefCnt Flags       Type       State         I-Node Path\n",
      "unix  4      [ ]         DGRAM                      1315 /dev/log\n",
      "unix  2      [ ]         DGRAM                      1536 \n",
      "unix  2      [ ]         DGRAM                      1435 \n",
      "\n"
     ]
    }
   ],
   "source": [
    "with open('netstat_sample1.log') as f:\n",
    "    data = f.read()\n",
    "    print(data)"
   ]
  },
  {
   "cell_type": "markdown",
   "metadata": {},
   "source": [
    "# IP(Foreign) Lookup with WHOIS API Results"
   ]
  },
  {
   "cell_type": "code",
   "execution_count": 6,
   "metadata": {},
   "outputs": [
    {
     "name": "stdout",
     "output_type": "stream",
     "text": [
      "[+] Filename: netstat_sample1.log - Whois(whois.kisa.or.kr) Result:\n",
      " [-] IP: 101.201.151.78, CountryCode: CN\n",
      " [-] IP: 47.105.57.238, CountryCode: CN\n",
      " [-] IP: 212.83.171.224, CountryCode: FR\n",
      " [-] IP: 101.201.151.78, CountryCode: CN\n",
      " [-] IP: 47.105.57.238, CountryCode: CN\n",
      "[+] Filename: netstat_sample2.log - Whois(whois.kisa.or.kr) Result:\n",
      " [-] IP: 101.201.151.78, CountryCode: CN\n",
      " [-] IP: 47.105.57.238, CountryCode: CN\n",
      " [-] IP: 184.105.247.196, CountryCode: US\n",
      " [-] IP: 47.105.57.238, CountryCode: CN\n",
      " [-] IP: 101.201.151.78, CountryCode: CN\n"
     ]
    }
   ],
   "source": [
    "# -*- coding: utf-8 -*-\n",
    "# @Author: Kyle Song\n",
    "# @Date:   2020-06-16 17:21:15\n",
    "# @Last Modified by:   Kyle Song\n",
    "# @Last Modified time: 2020-06-19 09:19:05\n",
    "\n",
    "import glob\n",
    "import urllib.request\n",
    "import json\n",
    "\n",
    "\n",
    "\"\"\" \n",
    "Country Code Reference URL:\n",
    "http://www.iegate.net/country_code.php\n",
    "\n",
    "Whois API키는 개인적으로 직접 발급 받아야함(whois.kisa.or.kr)\n",
    "\"\"\"\n",
    "\n",
    "def main():\n",
    "    log_path = '.\\\\**\\\\*.log'\n",
    "    file_list = glob.glob(log_path, recursive=True)\n",
    "\n",
    "    for file in file_list:\n",
    "        slice_filename = file[2:]\n",
    "        print(f\"[+] Filename: {slice_filename} - Whois(whois.kisa.or.kr) Result:\")\n",
    "\n",
    "        fh = open(file, mode='r')\n",
    "\n",
    "        while True:\n",
    "            oneline = fh.readline()\n",
    "            if oneline == '':\n",
    "                break\n",
    "            if (\"ESTABLISHED\" in oneline) and (\"127.0.0.1\" not in oneline):\n",
    "                foreign_ip_port = oneline.split()[4]\n",
    "                foreign_ip = foreign_ip_port.split(':')[0]\n",
    "                foreign_port = foreign_ip_port.split(':')[1]\n",
    "\n",
    "                whois_result = whois_api(foreign_ip)\n",
    "                # Results\n",
    "                # {\"whois\":{\"query\":\"47.105.57.238\",\"queryType\":\"IPv4\",\"registry\":\"APNIC\",\"countryCode\":\"CN\"}}\n",
    "\n",
    "                whois_result = json.loads(whois_result)\n",
    "                print(f\" [-] IP: {foreign_ip}, CountryCode: {whois_result['whois']['countryCode']}\")\n",
    "        fh.close()\n",
    "\n",
    "\n",
    "def whois_api(ip):\n",
    "    whois_key = 'you_need_to_request_the_private_api_key_from_whois.kisa.or.kr'\n",
    "    query = \"http://whois.kisa.or.kr/openapi/whois.jsp?query=\" + ip + \"&key=\"+ whois_key + \"&answer=json\";\n",
    "    request = urllib.request.urlopen(query).read().decode(\"utf-8\")\n",
    "    return request\n",
    "\n",
    "\n",
    "if __name__ == '__main__':\n",
    "    main()"
   ]
  },
  {
   "cell_type": "code",
   "execution_count": null,
   "metadata": {},
   "outputs": [],
   "source": []
  }
 ],
 "metadata": {
  "kernelspec": {
   "display_name": "Python 3",
   "language": "python",
   "name": "python3"
  },
  "language_info": {
   "codemirror_mode": {
    "name": "ipython",
    "version": 3
   },
   "file_extension": ".py",
   "mimetype": "text/x-python",
   "name": "python",
   "nbconvert_exporter": "python",
   "pygments_lexer": "ipython3",
   "version": "3.7.5"
  }
 },
 "nbformat": 4,
 "nbformat_minor": 2
}
