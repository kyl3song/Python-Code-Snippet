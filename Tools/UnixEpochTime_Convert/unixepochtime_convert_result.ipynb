{
 "cells": [
  {
   "cell_type": "markdown",
   "metadata": {},
   "source": [
    "# Example of UnixEpochTime"
   ]
  },
  {
   "cell_type": "code",
   "execution_count": 1,
   "metadata": {},
   "outputs": [],
   "source": [
    "import datetime\n",
    "\n",
    "\"\"\" 2147483647 is the end value, just before the overflow of EpochTime\"\"\"\n",
    "\n",
    "UNIXEPOCH_LENGTH = 10\n",
    "UNIXEPOCH_MILLISEC_LENGTH = 13\n",
    "\n",
    "timestamp1 = 1583902425\n",
    "timestamp2 = 1582714671700"
   ]
  },
  {
   "cell_type": "markdown",
   "metadata": {},
   "source": [
    "# Convert UnixEpoch to Humantime"
   ]
  },
  {
   "cell_type": "code",
   "execution_count": 2,
   "metadata": {},
   "outputs": [
    {
     "name": "stdout",
     "output_type": "stream",
     "text": [
      "2020-03-11 13:53:45\n"
     ]
    }
   ],
   "source": [
    "print(datetime.datetime.fromtimestamp(timestamp1))"
   ]
  },
  {
   "cell_type": "markdown",
   "metadata": {},
   "source": [
    "# Convert UnixEpoch(Millisecond) to Humantime"
   ]
  },
  {
   "cell_type": "code",
   "execution_count": 4,
   "metadata": {},
   "outputs": [
    {
     "name": "stdout",
     "output_type": "stream",
     "text": [
      "2020-02-26 19:57:51.700000\n"
     ]
    }
   ],
   "source": [
    "print(datetime.datetime.fromtimestamp(timestamp2 / 1000))"
   ]
  },
  {
   "cell_type": "markdown",
   "metadata": {},
   "source": [
    "# Fullcode Example"
   ]
  },
  {
   "cell_type": "code",
   "execution_count": 5,
   "metadata": {},
   "outputs": [
    {
     "name": "stdout",
     "output_type": "stream",
     "text": [
      "Converted Time (UnixEpoch): 2020-03-11 13:53:45\n",
      "Converted Time (UnixEpoch): 2020-03-11 13:53:46\n",
      "Converted Time (UnixEpoch): 2020-03-11 13:56:16\n",
      "Converted Time (UnixEpoch_Millisecond): 2020-02-26 22:04:33.439000\n",
      "Converted Time (UnixEpoch_Millisecond): 2020-02-26 19:58:16.234000\n",
      "Converted Time (UnixEpoch_Millisecond): 2020-02-26 19:57:51.700000\n",
      "Converted Time (UnixEpoch_Millisecond): 2020-02-24 17:40:27.849000\n",
      "Convert Error:  N/A\n",
      "Convert Error:   \n"
     ]
    }
   ],
   "source": [
    "# -*- coding: utf-8 -*-\n",
    "# @Author: Kyle Song (fkilla8210@gmail.com)\n",
    "# @Date:   2020-03-11 13:50\n",
    "# @Last Modified by:   KyleSong\n",
    "\n",
    "import datetime\n",
    "\n",
    "def main():\n",
    "    \"\"\" 2147483647 is the end value, just before the overflow of EpochTime\"\"\"\n",
    "\n",
    "    UNIXEPOCH_LENGTH = 10\n",
    "    UNIXEPOCH_MILLISEC_LENGTH = 13\n",
    "\n",
    "    timestamp = [1583902425,\n",
    "                 1583902426,\n",
    "                 1583902576,\n",
    "                 1582722273439,\n",
    "                 1582714696234,\n",
    "                 1582714671700,\n",
    "                 1582533627849,\n",
    "                 \"N/A\",\n",
    "                 \" \"]\n",
    "\n",
    "    for ts in timestamp:\n",
    "        time_length = len(str(ts))\n",
    "        try:\n",
    "            if time_length == UNIXEPOCH_LENGTH:\n",
    "                humantime = unixepoch_to_humantime(ts)\n",
    "                print(\"Converted Time (UnixEpoch):\", humantime)\n",
    "\n",
    "            elif time_length == UNIXEPOCH_MILLISEC_LENGTH:\n",
    "                humantime = unixepoch_millisec_to_humantime(ts)\n",
    "                print(\"Converted Time (UnixEpoch_Millisecond):\", humantime)\n",
    "\n",
    "            else:\n",
    "                print(\"Convert Error: \", ts)\n",
    "\n",
    "        except:\n",
    "            print(ts, \"-> ERROR\")\n",
    "            pass\n",
    "\n",
    "def unixepoch_to_humantime(unixepoch):\n",
    "    \"\"\" convert unixepoch time to human-readable time \"\"\"\n",
    "    return datetime.datetime.fromtimestamp(unixepoch)\n",
    "\n",
    "\n",
    "def unixepoch_millisec_to_humantime(unixepoch):\n",
    "    \"\"\" convert unixepoch time(millisecond) to human-readable time \"\"\"\n",
    "    return datetime.datetime.fromtimestamp(unixepoch / 1000)\n",
    "\n",
    "\n",
    "if __name__ == '__main__':\n",
    "    main()\n"
   ]
  }
 ],
 "metadata": {
  "kernelspec": {
   "display_name": "Python 3",
   "language": "python",
   "name": "python3"
  },
  "language_info": {
   "codemirror_mode": {
    "name": "ipython",
    "version": 3
   },
   "file_extension": ".py",
   "mimetype": "text/x-python",
   "name": "python",
   "nbconvert_exporter": "python",
   "pygments_lexer": "ipython3",
   "version": "3.6.8"
  }
 },
 "nbformat": 4,
 "nbformat_minor": 2
}
