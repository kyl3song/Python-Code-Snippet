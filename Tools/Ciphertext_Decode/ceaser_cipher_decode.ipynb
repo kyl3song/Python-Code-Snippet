{
 "cells": [
  {
   "cell_type": "code",
   "execution_count": 1,
   "metadata": {
    "scrolled": true
   },
   "outputs": [
    {
     "name": "stdout",
     "output_type": "stream",
     "text": [
      "Ceaser Cipher Round 1, Result: ifmmp\n",
      "Ceaser Cipher Round 2, Result: jgnnq\n",
      "Ceaser Cipher Round 3, Result: khoor\n",
      "Ceaser Cipher Round 4, Result: lipps\n",
      "Ceaser Cipher Round 5, Result: mjqqt\n",
      "Ceaser Cipher Round 6, Result: nkrru\n",
      "Ceaser Cipher Round 7, Result: olssv\n",
      "Ceaser Cipher Round 8, Result: pmttw\n",
      "Ceaser Cipher Round 9, Result: qnuux\n",
      "Ceaser Cipher Round 10, Result: rovvy\n",
      "Ceaser Cipher Round 11, Result: spwwz\n",
      "Ceaser Cipher Round 12, Result: tqxxa\n",
      "Ceaser Cipher Round 13, Result: uryyb\n",
      "Ceaser Cipher Round 14, Result: vszzc\n",
      "Ceaser Cipher Round 15, Result: wtaad\n",
      "Ceaser Cipher Round 16, Result: xubbe\n",
      "Ceaser Cipher Round 17, Result: yvccf\n",
      "Ceaser Cipher Round 18, Result: zwddg\n",
      "Ceaser Cipher Round 19, Result: axeeh\n",
      "Ceaser Cipher Round 20, Result: byffi\n",
      "Ceaser Cipher Round 21, Result: czggj\n",
      "Ceaser Cipher Round 22, Result: dahhk\n",
      "Ceaser Cipher Round 23, Result: ebiil\n",
      "Ceaser Cipher Round 24, Result: fcjjm\n",
      "Ceaser Cipher Round 25, Result: gdkkn\n",
      "Ceaser Cipher Round 26, Result: hello\n"
     ]
    }
   ],
   "source": [
    "# -*- coding: utf-8 -*-\n",
    "# Author: Kyle Song\n",
    "\n",
    "import string\n",
    "\n",
    "'''\n",
    "[ASCII CODE]\n",
    "a-z : 97~122\n",
    "A-Z : 65~90\n",
    "91 ~ 96: Special Character ('[', '\\', ']', '^', '_', '`')\n",
    "'''\n",
    "\n",
    "text = \"hello\"\n",
    "\n",
    "alphabet_lower = list(string.ascii_lowercase)\n",
    "\n",
    "for i in range(1, len(alphabet_lower)+1):\n",
    "\n",
    "    strText = []\n",
    "\n",
    "    for char in text:\n",
    "        intVal = ord(char)\n",
    "        intVal += i\n",
    "\n",
    "        if intVal > ord('z'):\n",
    "            intVal -= 26\n",
    "\n",
    "        strText.append(chr(intVal))\n",
    "\n",
    "    print(f\"Ceaser Cipher Round {i}, Result: {''.join(strText)}\")"
   ]
  }
 ],
 "metadata": {
  "kernelspec": {
   "display_name": "Python 3",
   "language": "python",
   "name": "python3"
  },
  "language_info": {
   "codemirror_mode": {
    "name": "ipython",
    "version": 3
   },
   "file_extension": ".py",
   "mimetype": "text/x-python",
   "name": "python",
   "nbconvert_exporter": "python",
   "pygments_lexer": "ipython3",
   "version": "3.6.8"
  }
 },
 "nbformat": 4,
 "nbformat_minor": 2
}
