{
 "cells": [
  {
   "cell_type": "code",
   "execution_count": 1,
   "metadata": {},
   "outputs": [
    {
     "name": "stdout",
     "output_type": "stream",
     "text": [
      "[+] Filename: file.jpg (1921555 bytes)\n",
      "[-] MD5: 1a3f815c0171d1c0b6b39ecee019bbec 1921555\n",
      "[-] SHA-1: b9810c87dce28b801d137e521be8b878e4855c64\n",
      "[-] SHA-256: ba7fec8a2adeafa6685ec22b4199091d70571d65674bcbe196852e0f3d679cda\n"
     ]
    }
   ],
   "source": [
    "# -*- coding: utf-8 -*-\n",
    "# @Author: Kyle Song\n",
    "# @Date:   2020-03-02 11:21:10\n",
    "# @Last Modified by:   KyleSong\n",
    "\n",
    "import hashlib\n",
    "import os\n",
    "\n",
    "def main():\n",
    "    \"\"\" Generating Hash values \"\"\"\n",
    "\n",
    "    file = \"file.jpg\"\n",
    "\n",
    "    with open(file, mode='rb') as fh:\n",
    "        data = fh.read()\n",
    "\n",
    "    filesize = get_file_size(file)\n",
    "\n",
    "    md5_hash = generate_md5_hash(data)\n",
    "    sha1_hash = generate_sha1_hash(data)\n",
    "    sha256_hash = generate_sha256_hash(data)\n",
    "\n",
    "    print(f\"[+] Filename: {file} ({filesize} bytes)\")\n",
    "    print(\"[-] MD5:\", md5_hash, filesize)\n",
    "    print(\"[-] SHA-1:\", sha1_hash)\n",
    "    print(\"[-] SHA-256:\", sha256_hash)\n",
    "\n",
    "\n",
    "def generate_md5_hash(data):\n",
    "    \"\"\" Generating MD5 Hash values \"\"\"\n",
    "    return hashlib.md5(data).hexdigest()\n",
    "\n",
    "\n",
    "def generate_sha1_hash(data):\n",
    "    \"\"\" Generating SHA-1 Hash values \"\"\"\n",
    "    return hashlib.sha1(data).hexdigest()\n",
    "\n",
    "\n",
    "def generate_sha256_hash(data):\n",
    "    \"\"\" Generating SHA-256 Hash values \"\"\"\n",
    "    return hashlib.sha256(data).hexdigest()\n",
    "\n",
    "\n",
    "def get_file_size(file):\n",
    "    \"\"\" Calculates Size of File \"\"\"\n",
    "    return os.path.getsize(file)\n",
    "\n",
    "\n",
    "if __name__ == '__main__':\n",
    "    main()\n"
   ]
  },
  {
   "cell_type": "code",
   "execution_count": null,
   "metadata": {},
   "outputs": [],
   "source": []
  }
 ],
 "metadata": {
  "kernelspec": {
   "display_name": "Python 3",
   "language": "python",
   "name": "python3"
  },
  "language_info": {
   "codemirror_mode": {
    "name": "ipython",
    "version": 3
   },
   "file_extension": ".py",
   "mimetype": "text/x-python",
   "name": "python",
   "nbconvert_exporter": "python",
   "pygments_lexer": "ipython3",
   "version": "3.6.8"
  }
 },
 "nbformat": 4,
 "nbformat_minor": 2
}
